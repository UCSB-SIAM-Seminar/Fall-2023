{
 "cells": [
  {
   "cell_type": "markdown",
   "metadata": {},
   "source": [
    "# SDEs and Diffusions"
   ]
  },
  {
   "cell_type": "markdown",
   "metadata": {},
   "source": [
    "Content goes here."
   ]
  },
  {
   "cell_type": "markdown",
   "metadata": {},
   "source": [
    "# Monte Carlo Approaches and Euler-Maruyama"
   ]
  },
  {
   "cell_type": "markdown",
   "metadata": {},
   "source": [
    "Content Goes Here."
   ]
  },
  {
   "cell_type": "code",
   "execution_count": null,
   "id": "3d298b9b",
   "metadata": {},
   "outputs": [
    {
     "name": "stderr",
     "output_type": "stream",
     "text": [
      "/opt/homebrew/Caskroom/miniforge/base/envs/MFG_project/lib/python3.9/site-packages/tqdm/auto.py:22: TqdmWarning: IProgress not found. Please update jupyter and ipywidgets. See https://ipywidgets.readthedocs.io/en/stable/user_install.html\n",
      "  from .autonotebook import tqdm as notebook_tqdm\n"
     ]
    }
   ],
   "source": [
    "import torch\n",
    "import torch.nn as nn\n",
    "import matplotlib.pyplot as plt\n",
    "from scipy import special\n",
    "import numpy as np"
   ]
  },
  {
   "cell_type": "markdown",
   "id": "47c04c06",
   "metadata": {},
   "source": [
    "# Solving Kolmogorov PDEs with NNs:\n",
    "## A Monte Carlo Approach"
   ]
  },
  {
   "cell_type": "markdown",
   "id": "55052e98",
   "metadata": {},
   "source": [
    "We would like to solve PDEs of the form\n",
    "\n",
    "$$\n",
    "    \\partial_t u(t, x) = \\mu(x) \\cdot \\nabla_x u(t, x) + \\frac{1}{2} \\text{tr}\\left( \\sigma(x) \\sigma^*(x) \\text{Hess}_x u(t, x) \\right)\n",
    "$$\n",
    "\n",
    "with the initial condition $u(0, x) = \\varphi(x)$. Here we assume $u \\in C^{1, 2}([0, T] \\times \\mathbb{R}^d; \\mathbb{R})$\n",
    "\n",
    "We know from the Kolmogorov backward equation that $u$ can be expressed as the expectation of a certain Ito diffusion\n",
    "\n",
    "$$\n",
    "u(t, x) = \\mathbb{E}[\\varphi(X_t^x)]\n",
    "$$\n",
    "\n",
    "where $X_t^x$ satisfies\n",
    "\n",
    "$$\n",
    "\\begin{align}\n",
    "    \\mathrm{d}X_t^x &= \\mu(X_t^x) \\mathrm{d}t + \\sigma(X_t^x) \\mathrm{d}W_t\\\\\n",
    "    X_0^x &= x.\n",
    "\\end{align}\n",
    "$$"
   ]
  },
  {
   "cell_type": "markdown",
   "id": "745dc25e",
   "metadata": {},
   "source": [
    "## How can we convert this to a minimization problem?\n",
    "\n",
    "We learned from the paper by Beck, et al., the following theorem:\n",
    "\n",
    "Let $D \\subset \\mathbb{R}^d$ be compact and the random variable $\\xi \\sim \\text{unif}(D)$. Consider the process $\\mathbb{X}$ satisfying\n",
    "\n",
    "$$\n",
    "\\begin{align}\n",
    "    \\mathbb{X}_t &= \\mu(\\mathbb{X}_t) \\mathrm{d}t + \\sigma(\\mathbb{X}_t) \\mathrm{d}W_t\\\\\n",
    "    \\mathbb{X}_0 &= \\xi.\n",
    "\\end{align}\n",
    "$$\n",
    "\n",
    "There exists a unique function $U: D \\to \\mathbb{R}$ such that\n",
    "\n",
    "$$\n",
    "\\mathbb{E}\\left[\\left|\\varphi\\left(\\mathbb{X}_T\\right)-U(\\xi)\\right|^2\\right]=\\inf _{v \\in C\\left([a, b]^d, \\mathbb{R}\\right)} \\mathbb{E}\\left[\\left|\\varphi\\left(\\mathbb{X}_T\\right)-v(\\xi)\\right|^2\\right]\n",
    "$$\n",
    "\n",
    "and $U(x) = u(T, x)$ for all $x \\in D$."
   ]
  },
  {
   "cell_type": "markdown",
   "id": "c29eb67c",
   "metadata": {},
   "source": [
    "This implies a Monte Carlo algorithm we can use to solve our PDE for the map $x \\mapsto u(T, x)$. By taking a neural network $\\mathbb{U}_\\theta(x) \\approx u(T, x)$, we can generate samples uniformly on $D$, evolve $\\mathbb{X}$ forward in time using the Euler-Maruyama method, and use the sample average to approximate the expected error in the above equation. Then we can use gradient descent to take a minimizing step."
   ]
  },
  {
   "cell_type": "markdown",
   "id": "38a0e936",
   "metadata": {},
   "source": [
    "## Neural Network class"
   ]
  },
  {
   "cell_type": "code",
   "execution_count": 2,
   "id": "609bc192",
   "metadata": {},
   "outputs": [],
   "source": [
    "class Mlp(nn.Module):\n",
    "    \"\"\"Simple multi-layer perceptron implementation.\"\"\"\n",
    "    def __init__(self, x_dim, layer_sizes, activation):\n",
    "        \"\"\"\n",
    "        Creates an MLP with input dimension `x_dim` and number of hidden\n",
    "        layers `len(layer_sizes)` where the i-th hidden layer has `layer_sizes[i]`\n",
    "        hidden neurons.\n",
    "        \"\"\"\n",
    "        super().__init__()\n",
    "        self.layers = nn.ModuleList()\n",
    "        self.layers.append(nn.Linear(x_dim, layer_sizes[0]))\n",
    "        self.layers.append(activation)\n",
    "        for i in range(len(layer_sizes) - 1):\n",
    "            self.layers.append(nn.Linear(layer_sizes[i], layer_sizes[i + 1]))\n",
    "            self.layers.append(activation)\n",
    "        self.layers.append(nn.Linear(layer_sizes[-1], 1))\n",
    "        \n",
    "        for i in range(len(layer_sizes) + 1):\n",
    "            nn.init.xavier_uniform_(self.layers[i * 2].weight)\n",
    "\n",
    "    def forward(self, x):\n",
    "        for layer in self.layers:\n",
    "            x = layer(x)\n",
    "        return x"
   ]
  },
  {
   "cell_type": "markdown",
   "id": "a0b507b3",
   "metadata": {},
   "source": [
    "## Euler-Maruyama implementation"
   ]
  },
  {
   "cell_type": "markdown",
   "id": "3ec1931a",
   "metadata": {},
   "source": [
    "Here we implement the Euler-Maruyama method to approximate the solution of an SDE. The scheme is given by\n",
    "\n",
    "$$\n",
    "    X_{t_{n+1}} = X_{t_n} + \\mu(X_{t_n}) \\Delta t_n + \\sigma(X_{t_n}) \\Delta W_n\n",
    "$$\n",
    "\n",
    "where $\\Delta W_n \\sim \\mathcal{N}(0,\\Delta t_n)$."
   ]
  },
  {
   "cell_type": "code",
   "execution_count": 3,
   "id": "ed866984",
   "metadata": {},
   "outputs": [],
   "source": [
    "def euler_maruyama(x_0, t_vals, μ, σ):\n",
    "    x = torch.clone(x_0)\n",
    "    for i in range(len(t_vals) - 1):\n",
    "        Δt = t_vals[i+1] - t_vals[i]\n",
    "        ΔW = torch.normal(torch.zeros_like(x_0), torch.sqrt(Δt))\n",
    "        x += μ(x) * Δt + σ(x) * ΔW\n",
    "    return x"
   ]
  },
  {
   "cell_type": "markdown",
   "id": "f1932a41",
   "metadata": {},
   "source": [
    "## Training loop"
   ]
  },
  {
   "cell_type": "markdown",
   "id": "941d9f50",
   "metadata": {},
   "source": [
    "Here we implement the main training loop for our ML model to solve the PDE\n",
    "\n",
    "$$\n",
    "\\frac{\\partial}{\\partial t} u(t, x) = \\frac{1}{2}\\frac{\\partial^2}{\\partial x^2} u(t,x)\n",
    "$$\n",
    "\n",
    "at time $T = 1$ with initial condition $u(0, x) = x^2$. The analytic solution is given by $u(t, x) = x^2 + t$.\n",
    "\n",
    "The SDE corresponding to the above Kolmogorov PDE is simply $dX_t = dW_t$. In other words\n",
    "\n",
    "$$\n",
    "\\mu(x) = 0 \\qquad \\text{and} \\qquad \\sigma(x) = 1\n",
    "$$\n"
   ]
  },
  {
   "cell_type": "code",
   "execution_count": 14,
   "id": "baa85137",
   "metadata": {},
   "outputs": [
    {
     "data": {
      "text/plain": [
       "[<matplotlib.lines.Line2D at 0x16dcf0eb0>]"
      ]
     },
     "execution_count": 14,
     "metadata": {},
     "output_type": "execute_result"
    },
    {
     "data": {
      "image/png": "[encoded data removed]",
      "text/plain": [
       "<Figure size 432x288 with 1 Axes>"
      ]
     },
     "metadata": {
      "needs_background": "light"
     },
     "output_type": "display_data"
    }
   ],
   "source": [
    "# Ininitialize NN architecture and optimizer\n",
    "x_dim = 1\n",
    "layer_sizes = [16, 16]\n",
    "model = Mlp(x_dim, layer_sizes, nn.Tanh())\n",
    "optimizer = torch.optim.Adam(model.parameters(), lr=1e-4)\n",
    "\n",
    "# Define drift coeffs, volatility coeffs, and initial condition\n",
    "μ = lambda x: torch.zeros_like(x)\n",
    "σ = lambda x: torch.ones_like(x)\n",
    "φ = lambda x: torch.square(x)\n",
    "\n",
    "# Define the space/time region where we want to solve our PDE\n",
    "left_endpoint = -1.0\n",
    "right_endpoint = 1.0\n",
    "x_0_sampler = torch.distributions.uniform.Uniform(left_endpoint, right_endpoint)\n",
    "T = 1.0\n",
    "\n",
    "batch_size = 64\n",
    "n_epochs = int(1e5)\n",
    "losses = []\n",
    "for epoch in range(n_epochs):\n",
    "    \n",
    "    # Sample from space domain\n",
    "    x_0 = x_0_sampler.sample([batch_size, x_dim])\n",
    "    \n",
    "    # Compute SDE trajectory with Euler-Maruyama\n",
    "    t_tensor = torch.linspace(0.0, T, 2)\n",
    "    S_N = euler_maruyama(x_0, t_tensor, μ, σ)\n",
    "    \n",
    "    # Compute Kolmogorov loss\n",
    "    loss = torch.mean(torch.square(model(x_0) - φ(S_N)))\n",
    "    \n",
    "    # Take gradient descent step\n",
    "    optimizer.zero_grad()\n",
    "    loss.backward()\n",
    "    optimizer.step()\n",
    "    losses.append(loss.item())\n",
    "    \n",
    "window = 100\n",
    "plt.plot(np.convolve(losses, np.ones(window)/window, mode='valid'))\n"
   ]
  },
  {
   "cell_type": "markdown",
   "id": "cca22435",
   "metadata": {},
   "source": [
    "Note: Maybe someone can figure out why the loss plot behaves so weirdly, plateauing at a loss of around 3. Possibly a bug somewhere?"
   ]
  },
  {
   "cell_type": "code",
   "execution_count": 15,
   "id": "268d5984",
   "metadata": {},
   "outputs": [
    {
     "data": {
      "text/plain": [
       "<matplotlib.legend.Legend at 0x17e3f3040>"
      ]
     },
     "execution_count": 15,
     "metadata": {},
     "output_type": "execute_result"
    },
    {
     "data": {
      "image/png": "[encoded data removed]",
      "text/plain": [
       "<Figure size 432x288 with 1 Axes>"
      ]
     },
     "metadata": {
      "needs_background": "light"
     },
     "output_type": "display_data"
    }
   ],
   "source": [
    "xs = torch.linspace(left_endpoint, right_endpoint, 100).view(-1, 1)\n",
    "with torch.no_grad():\n",
    "    model_output = model(xs)\n",
    "benchmark = xs**2 + T\n",
    "\n",
    "plt.plot(xs, model_output, xs, benchmark, '--')\n",
    "plt.legend(['Model', 'Benchmark'])"
   ]
  },
  {
   "cell_type": "code",
   "execution_count": null,
   "id": "d2cada0d",
   "metadata": {},
   "outputs": [],
   "source": []
  }
 ],
 "metadata": {
  "kernelspec": {
   "display_name": "Python 3 (ipykernel)",
   "language": "python",
   "name": "python3"
  },
  "language_info": {
   "codemirror_mode": {
    "name": "ipython",
    "version": 3
   },
   "file_extension": ".py",
   "mimetype": "text/x-python",
   "name": "python",
   "nbconvert_exporter": "python",
   "pygments_lexer": "ipython3",
   "version": "3.9.10"
  }
 },
 "nbformat": 4,
 "nbformat_minor": 5
}
