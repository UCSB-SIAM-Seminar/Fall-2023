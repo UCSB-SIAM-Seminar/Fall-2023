{
 "cells": [
  {
   "cell_type": "code",
   "execution_count": 1,
   "id": "a296239d",
   "metadata": {},
   "outputs": [
    {
     "name": "stderr",
     "output_type": "stream",
     "text": [
      "/opt/homebrew/Caskroom/miniforge/base/envs/MFG_project/lib/python3.9/site-packages/tqdm/auto.py:22: TqdmWarning: IProgress not found. Please update jupyter and ipywidgets. See https://ipywidgets.readthedocs.io/en/stable/user_install.html\n",
      "  from .autonotebook import tqdm as notebook_tqdm\n"
     ]
    }
   ],
   "source": [
    "import torch\n",
    "import torch.nn as nn\n",
    "import matplotlib.pyplot as plt\n",
    "from scipy import special\n",
    "import numpy as np"
   ]
  },
  {
   "cell_type": "markdown",
   "id": "71537447",
   "metadata": {},
   "source": [
    "# Solving Kolmogorov PDEs with NNs:\n",
    "## A Monte Carlo Approach"
   ]
  },
  {
   "cell_type": "code",
   "execution_count": 2,
   "id": "ed7355a8",
   "metadata": {},
   "outputs": [],
   "source": [
    "class Mlp(nn.Module):\n",
    "    \"\"\"Simple multi-layer perceptron implementation.\"\"\"\n",
    "    def __init__(self, x_dim, layer_sizes, activation):\n",
    "        \"\"\"\n",
    "        Creates an MLP with input dimension `x_dim` and number of hidden\n",
    "        layers `len(layer_sizes)` where the i-th hidden layer has `layer_sizes[i]`\n",
    "        hidden neurons.\n",
    "        \"\"\"\n",
    "        super().__init__()\n",
    "        self.layers = nn.ModuleList()\n",
    "        self.layers.append(nn.Linear(x_dim, layer_sizes[0]))\n",
    "        self.layers.append(activation)\n",
    "        for i in range(len(layer_sizes) - 1):\n",
    "            self.layers.append(nn.Linear(layer_sizes[i], layer_sizes[i + 1]))\n",
    "            self.layers.append(activation)\n",
    "        self.layers.append(nn.Linear(layer_sizes[-1], 1))\n",
    "        \n",
    "        for i in range(len(layer_sizes) + 1):\n",
    "            nn.init.xavier_uniform_(self.layers[i * 2].weight)\n",
    "\n",
    "    def forward(self, x):\n",
    "        for layer in self.layers:\n",
    "            x = layer(x)\n",
    "        return x"
   ]
  },
  {
   "cell_type": "markdown",
   "id": "2dbbf975",
   "metadata": {},
   "source": [
    "Here we implement the Euler-Maruyama method to approximate the solution of an SDE. The scheme is given by\n",
    "\n",
    "$$\n",
    "    X_{t_{n+1}} = X_{t_n} + \\mu(X_{t_n}) \\Delta t_n + \\sigma(X_{t_n}) \\Delta W_n\n",
    "$$\n",
    "\n",
    "where $\\Delta W_n \\sim \\mathcal{N}(0,\\Delta t_n)$."
   ]
  },
  {
   "cell_type": "code",
   "execution_count": 3,
   "id": "bcad6fa7",
   "metadata": {},
   "outputs": [],
   "source": [
    "def euler_maruyama(x_0, t_vals, μ, σ):\n",
    "    x = torch.clone(x_0)\n",
    "    for i in range(len(t_vals) - 1):\n",
    "        Δt = t_vals[i+1] - t_vals[i]\n",
    "        ΔW = torch.normal(torch.zeros_like(x_0), torch.sqrt(Δt))\n",
    "        x += μ(x) * Δt + σ(x) * ΔW\n",
    "    return x"
   ]
  },
  {
   "cell_type": "markdown",
   "id": "e7f73673",
   "metadata": {},
   "source": [
    "Here we implement the main training loop for our ML model to solve the PDE\n",
    "\n",
    "$$\n",
    "\\frac{\\partial}{\\partial t} u(t, x) = \\frac{1}{2}\\frac{\\partial^2}{\\partial x^2} u(t,x)\n",
    "$$\n",
    "\n",
    "at time $T = 1$ with initial condition $u(0, x) = \\sin\\left(\\sqrt{2} x\\right)$. The analytic solution is given by $u(t, x) = e^{-t} \\sin\\left( \\sqrt{2} x\\right)$.\n",
    "\n",
    "The SDE corresponding to the above Kolmogorov PDE is simply $dX_t = dW_t$. In other words\n",
    "\n",
    "$$\n",
    "\\mu(x) = 0 \\qquad \\text{and} \\qquad \\sigma(x) = 1\n",
    "$$\n"
   ]
  },
  {
   "cell_type": "code",
   "execution_count": 10,
   "id": "186876d2",
   "metadata": {},
   "outputs": [
    {
     "data": {
      "text/plain": [
       "[<matplotlib.lines.Line2D at 0x165093250>]"
      ]
     },
     "execution_count": 10,
     "metadata": {},
     "output_type": "execute_result"
    },
    {
     "data": {
      "image/png": "[encoded data removed]",
      "text/plain": [
       "<Figure size 432x288 with 1 Axes>"
      ]
     },
     "metadata": {
      "needs_background": "light"
     },
     "output_type": "display_data"
    }
   ],
   "source": [
    "# Ininitialize NN architecture and optimizer\n",
    "x_dim = 1\n",
    "layer_sizes = [32]\n",
    "model = Mlp(x_dim, layer_sizes, nn.Tanh())\n",
    "optimizer = torch.optim.Adam(model.parameters())\n",
    "\n",
    "# Define drift coeffs, volatility coeffs, and initial condition\n",
    "μ = lambda x: torch.zeros_like(x)\n",
    "σ = lambda x: torch.ones_like(x)\n",
    "φ = lambda x: torch.sin(np.sqrt(2.0) * x)\n",
    "# φ = lambda x: torch.square(x)\n",
    "\n",
    "# Define the space/time region where we want to solve our PDE\n",
    "left_endpoint = -1.0\n",
    "right_endpoint = 1.0\n",
    "x_0_sampler = torch.distributions.uniform.Uniform(left_endpoint, right_endpoint)\n",
    "T = 1.0\n",
    "\n",
    "batch_size = 64\n",
    "n_epochs = int(5e5)\n",
    "losses = []\n",
    "for epoch in range(n_epochs):\n",
    "    \n",
    "    # Sample from space domain\n",
    "    x_0 = x_0_sampler.sample([batch_size, x_dim])\n",
    "    \n",
    "    # Compute SDE trajectory with Euler-Maruyama\n",
    "    t_tensor = torch.linspace(0.0, T, 2)\n",
    "    S_N = euler_maruyama(x_0, t_tensor, μ, σ)\n",
    "    \n",
    "    # Compute Kolmogorov loss\n",
    "    loss = torch.mean(torch.square(model(x_0) - φ(S_N)))\n",
    "    \n",
    "    # Take gradient descent step\n",
    "    optimizer.zero_grad()\n",
    "    loss.backward()\n",
    "    optimizer.step()\n",
    "    losses.append(loss.item())\n",
    "    \n",
    "window = 100\n",
    "plt.plot(np.convolve(losses, np.ones(window)/window, mode='valid'))\n"
   ]
  },
  {
   "cell_type": "code",
   "execution_count": 11,
   "id": "86acd695",
   "metadata": {},
   "outputs": [
    {
     "data": {
      "text/plain": [
       "<matplotlib.legend.Legend at 0x163a270d0>"
      ]
     },
     "execution_count": 11,
     "metadata": {},
     "output_type": "execute_result"
    },
    {
     "data": {
      "image/png": "[encoded data removed]",
      "text/plain": [
       "<Figure size 432x288 with 1 Axes>"
      ]
     },
     "metadata": {
      "needs_background": "light"
     },
     "output_type": "display_data"
    }
   ],
   "source": [
    "xs = torch.linspace(left_endpoint, right_endpoint, 100).view(-1, 1)\n",
    "with torch.no_grad():\n",
    "    model_output = model(xs)\n",
    "# benchmark = xs**2 + T\n",
    "benchmark = np.exp(-1.0) * np.sin(np.sqrt(2.0) * xs)\n",
    "\n",
    "plt.plot(xs, model_output, xs, benchmark, '--')\n",
    "plt.legend(['Model', 'Benchmark'])"
   ]
  },
  {
   "cell_type": "code",
   "execution_count": null,
   "id": "7b87dd6f",
   "metadata": {},
   "outputs": [],
   "source": []
  }
 ],
 "metadata": {
  "kernelspec": {
   "display_name": "Python 3 (ipykernel)",
   "language": "python",
   "name": "python3"
  },
  "language_info": {
   "codemirror_mode": {
    "name": "ipython",
    "version": 3
   },
   "file_extension": ".py",
   "mimetype": "text/x-python",
   "name": "python",
   "nbconvert_exporter": "python",
   "pygments_lexer": "ipython3",
   "version": "3.9.10"
  }
 },
 "nbformat": 4,
 "nbformat_minor": 5
}
